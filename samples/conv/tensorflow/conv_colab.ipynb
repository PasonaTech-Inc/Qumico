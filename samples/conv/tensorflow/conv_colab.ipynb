{
  "nbformat": 4,
  "nbformat_minor": 0,
  "metadata": {
    "colab": {
      "name": "conv_colab.ipynb",
      "provenance": [],
      "collapsed_sections": []
    },
    "kernelspec": {
      "name": "python3",
      "display_name": "Python 3"
    },
    "accelerator": "GPU"
  },
  "cells": [
    {
      "cell_type": "code",
      "metadata": {
        "id": "O_dtOF1yCZCy"
      },
      "source": [
        "# https://colab.research.google.com/notebooks/welcome.ipynb\n",
        "# Google Colabのアカウント作って登録する\n",
        "# FileをクリックしてNew python3 notebookを選ぶ\n",
        "# New　Python3notebook　クリックする\n",
        "\n",
        "# GPUで動き設定\n",
        "# runtime(メニューのボタン)　クリックして change runtime type　クリックして　GPUに設定する\n",
        "\n",
        "# google　colabからマウントする\n",
        "from google.colab import drive\n",
        "drive.mount('/content/gdrive')\n",
        "# authorization code取得して入力する（enterを押すとマント完了）\n",
        "\n",
        "# 出力メッセージ:\n",
        "# Enter your authorization code:\n",
        "# ··········\n",
        "# Mounted at /content/gdrive"
      ],
      "execution_count": null,
      "outputs": []
    },
    {
      "cell_type": "code",
      "metadata": {
        "id": "KQMrZE8xCgxg"
      },
      "source": [
        "# gitからプロジェクトをクローンする\n",
        "! git clone https://github.com/PasonaTech-Inc/Qumico.git \"/content/gdrive/My Drive/Qumico\"\n",
        "# 一度クローンした場合は　\n",
        "# 'fatal: destination path '/content/gdrive/My Drive/Qumico' already exists and is not an empty directory.'と表示される"
      ],
      "execution_count": null,
      "outputs": []
    },
    {
      "cell_type": "code",
      "metadata": {
        "id": "1if4WRbeCnbH"
      },
      "source": [
        "# pythonpathの環境変数設定\n",
        "import os\n",
        "os.environ['PYTHONPATH'] += \":/content/gdrive/My Drive/Qumico\""
      ],
      "execution_count": null,
      "outputs": []
    },
    {
      "cell_type": "code",
      "metadata": {
        "id": "kTfKG95hxG_Y"
      },
      "source": [
        "# pythonpath設定\n",
        "! echo $PYTHONPATH\n",
        "# 出力メッセージ:　/env/python:/content/gdrive/My Drive/Qumico"
      ],
      "execution_count": null,
      "outputs": []
    },
    {
      "cell_type": "code",
      "metadata": {
        "id": "aNQsikegxtLe"
      },
      "source": [
        "# ディレクトリを移動する\n",
        "%cd /content/gdrive/My Drive/Qumico\n",
        "# ディレクトリ確認する。\n",
        "# 出力メッセージ: /content/gdrive/My Drive/Qumico"
      ],
      "execution_count": null,
      "outputs": []
    },
    {
      "cell_type": "code",
      "metadata": {
        "id": "zs_bqCd_CpHw"
      },
      "source": [
        "# 必要なライブラリをインストールする\n",
        "! pip install -r requirements.txt\n"
      ],
      "execution_count": null,
      "outputs": []
    },
    {
      "cell_type": "code",
      "metadata": {
        "id": "bOvzMCUaCqoH"
      },
      "source": [
        "# ディレクトリを移動する\n",
        "%cd samples/conv/tensorflow/\n",
        "# ディレクトリ確認する \n",
        "# 出力メッセージ: /content/gdrive/My Drive/Qumico/samples/conv/tensorflow/"
      ],
      "execution_count": null,
      "outputs": []
    },
    {
      "cell_type": "code",
      "metadata": {
        "id": "Ndw443bMBriC"
      },
      "source": [
        "# flatcの実行を権限与える\n",
        "!chmod +x \"/content/gdrive/My Drive/Qumico/external/flatbuffers/flatc\"\n",
        "!ls -la \"/content/gdrive/My Drive/Qumico/external/flatbuffers/flatc\"\n",
        "# 出力メッセージ:　　　　\n",
        "# rwx------ 1 root root 3771528 Dec 23 01:27 '/content/gdrive/My Drive/Qumico/external/flatbuffers/flatc'"
      ],
      "execution_count": null,
      "outputs": []
    },
    {
      "cell_type": "code",
      "metadata": {
        "id": "Wnl3QrDse65C"
      },
      "source": [
        "# onnxファイル作る\n",
        "! python conv_train.py\n",
        "# 出力メッセージ:　onnx/tensorflow_conv.onnxを作成しました。"
      ],
      "execution_count": null,
      "outputs": []
    },
    {
      "cell_type": "code",
      "metadata": {
        "id": "PFMc5jhPExaK"
      },
      "source": [
        "# out_cのフォルダ作る\n",
        "! python gen_c.py\n",
        "# 出力メッセージ:　Cソースを生成しました。出力先: out_c \n",
        "# Cソースを生成しました。出力先: out_c"
      ],
      "execution_count": null,
      "outputs": []
    },
    {
      "cell_type": "code",
      "metadata": {
        "id": "Y5PdoOVVmxNj"
      },
      "source": [
        "# out_cフォルダ存在するがどうか確認する\n",
        "! ls\n",
        "# conv_infer_c.py  conv_model.py\tconv_train.py  model  out_c\n",
        "# conv_infer.py\t conv_test.py\tgen_c.py  onnx  __pycache__"
      ],
      "execution_count": null,
      "outputs": []
    },
    {
      "cell_type": "code",
      "metadata": {
        "id": "62WyZF4ArN81"
      },
      "source": [
        "# qumico.so存在するがどうか確認する\n",
        "! ls out_c\n",
        "# 出力メッセージ:\n",
        "# include  include  lib  qumico.c\tqumico.so"
      ],
      "execution_count": null,
      "outputs": []
    },
    {
      "cell_type": "code",
      "metadata": {
        "id": "ysDeTKdGExh3"
      },
      "source": [
        "# mnistデータ十個取得、　トレーニングしたモデルで推論する\n",
        "! python conv_infer.py\n",
        "# 出力メッセージ:　 \n",
        "# [[7 2 1 0 4 1 4 9 5 9]]"
      ],
      "execution_count": null,
      "outputs": []
    },
    {
      "cell_type": "code",
      "metadata": {
        "id": "8g_6ShuHExn9"
      },
      "source": [
        "# mnistデータ十個取得してout_cフォルダのモデルで推論する\n",
        "! python conv_infer_c.py \n",
        "# # 出力メッセージ:　\n",
        "# Predict Index [7, 2, 1, 0, 4, 1, 4, 9, 5, 9]"
      ],
      "execution_count": null,
      "outputs": []
    },
    {
      "cell_type": "code",
      "metadata": {
        "id": "7ktjej8pdYNx"
      },
      "source": [
        "# out_c file zipしてエクスポートする \n",
        "!zip -r '/content/gdrive/My Drive/out_c.zip' out_c  "
      ],
      "execution_count": null,
      "outputs": []
    },
    {
      "cell_type": "code",
      "metadata": {
        "id": "F_DqpH3f5nLO"
      },
      "source": [
        ""
      ],
      "execution_count": null,
      "outputs": []
    }
  ]
}