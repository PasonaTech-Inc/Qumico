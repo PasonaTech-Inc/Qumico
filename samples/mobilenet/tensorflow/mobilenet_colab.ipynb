{
  "nbformat": 4,
  "nbformat_minor": 0,
  "metadata": {
    "colab": {
      "name": "mobilenet_colab.ipynb",
      "provenance": [],
      "collapsed_sections": []
    },
    "kernelspec": {
      "name": "python3",
      "display_name": "Python 3"
    },
    "accelerator": "GPU"
  },
  "cells": [
    {
      "cell_type": "code",
      "metadata": {
        "id": "O_dtOF1yCZCy",
        "colab_type": "code",
        "colab": {}
      },
      "source": [
        "# https://colab.research.google.com/notebooks/welcome.ipynb\n",
        "# Google Colabのアカウント作って登録する\n",
        "# FileをクリックしてNew python3 notebookを選ぶ\n",
        "# New　Python3notebook　クリックする\n",
        "\n",
        "# GPUで動き設定\n",
        "# runtime(メニューのボタン)　クリックして change runtime type　クリックして　GPUに設定する\n",
        "\n",
        "# google　colabからマウントする\n",
        "from google.colab import drive\n",
        "drive.mount('/content/gdrive')\n",
        "# authorization code取得して入力する（enterを押すとマウント完了）\n",
        "\n",
        "# 出力メッセージ:\n",
        "# Enter your authorization code:\n",
        "# ··········\n",
        "# Mounted at /content/gdrive"
      ],
      "execution_count": 0,
      "outputs": []
    },
    {
      "cell_type": "code",
      "metadata": {
        "id": "KQMrZE8xCgxg",
        "colab_type": "code",
        "colab": {}
      },
      "source": [
        "# gitからプロジェクトをクローンする\n",
        "! git clone https://github.com/PasonaTech-Inc/Qumico.git \"/content/gdrive/My Drive/Qumico\"\n",
        "# 一度クローンした場合は　\n",
        "# 'fatal: destination path '/content/gdrive/My Drive/Qumico' already exists and is not an empty directory.'って表示する"
      ],
      "execution_count": 0,
      "outputs": []
    },
    {
      "cell_type": "code",
      "metadata": {
        "id": "1if4WRbeCnbH",
        "colab_type": "code",
        "colab": {}
      },
      "source": [
        "# pythonpathの環境変数設定\n",
        "import os\n",
        "os.environ['PYTHONPATH'] += \":/content/gdrive/My Drive/Qumico\""
      ],
      "execution_count": 0,
      "outputs": []
    },
    {
      "cell_type": "code",
      "metadata": {
        "id": "kTfKG95hxG_Y",
        "colab_type": "code",
        "colab": {}
      },
      "source": [
        "# pythonpath設定された\n",
        "! echo $PYTHONPATH\n",
        "# 出力メッセージ:　/env/python:/content/gdrive/My Drive/Qumico"
      ],
      "execution_count": 0,
      "outputs": []
    },
    {
      "cell_type": "code",
      "metadata": {
        "id": "aNQsikegxtLe",
        "colab_type": "code",
        "colab": {}
      },
      "source": [
        "# ディレクトリを移動する\n",
        "%cd /content/gdrive/My Drive/Qumico\n",
        "# ディレクトリ確認する。\n",
        "# 出力メッセージ: /content/gdrive/My Drive/Qumico"
      ],
      "execution_count": 0,
      "outputs": []
    },
    {
      "cell_type": "code",
      "metadata": {
        "id": "zs_bqCd_CpHw",
        "colab_type": "code",
        "colab": {}
      },
      "source": [
        "# 必要なライブラリをインストールする\n",
        "! pip install -r requirements.txt\n",
        "! pip install tensorflow-gpu==1.13.2 "
      ],
      "execution_count": 0,
      "outputs": []
    },
    {
      "cell_type": "code",
      "metadata": {
        "id": "bOvzMCUaCqoH",
        "colab_type": "code",
        "colab": {}
      },
      "source": [
        "# ディレクトリを移動する\n",
        "%cd samples/mobilenet/tensorflow/\n",
        "# ディレクトリ確認する。\n",
        "# 出力メッセージ /content/gdrive/My Drive/Qumico/samples/mobilenet/tensorflow/"
      ],
      "execution_count": 0,
      "outputs": []
    },
    {
      "cell_type": "code",
      "metadata": {
        "id": "Ndw443bMBriC",
        "colab_type": "code",
        "colab": {}
      },
      "source": [
        "# flatcの実行権限与える\n",
        "!chmod +x \"/content/gdrive/My Drive/Qumico/external/flatbuffers/flatc\"\n",
        "!ls -la \"/content/gdrive/My Drive/Qumico/external/flatbuffers/flatc\"\n",
        "# 出力メッセージ:　　\n",
        "# rwx------ 1 root root 3771528 Dec 23 01:27 '/content/gdrive/My Drive/Qumico/external/flatbuffers/flatc'"
      ],
      "execution_count": 0,
      "outputs": []
    },
    {
      "cell_type": "code",
      "metadata": {
        "id": "Wnl3QrDse65C",
        "colab_type": "code",
        "colab": {}
      },
      "source": [
        "# mobilenetのonnx作る\n",
        "! python mobilenet_tflite_to_onnx.py\n",
        "# 出力メッセージ　onnx/mobilenet_v1_0.25_128_quant.onnxを作成しました。"
      ],
      "execution_count": 0,
      "outputs": []
    },
    {
      "cell_type": "code",
      "metadata": {
        "id": "PFMc5jhPExaK",
        "colab_type": "code",
        "colab": {}
      },
      "source": [
        "# out_cのフォルダ作る\n",
        "! python gen_c.py\n",
        "# 出力メッセージ　Cソースを生成しました。出力先: out_c "
      ],
      "execution_count": 0,
      "outputs": []
    },
    {
      "cell_type": "code",
      "metadata": {
        "id": "Y5PdoOVVmxNj",
        "colab_type": "code",
        "colab": {}
      },
      "source": [
        "# out_cフォルダ存在するがどうか確認する\n",
        "! ls \n",
        "# 出力メッセージ:\n",
        "# build.py\t   labels.txt\t\t mobilenet_infer.py\n",
        "# example.py\t   main.c\t\t mobilenet_tflite_to_onnx.py\n",
        "# gen_c_optimize.py  makefile\t\t model\n",
        "# gen_c.py\t   mobilenet_common.py\t onnx\n",
        "# images\t\t   mobilenet_infer_c\t out_c\n",
        "# input.npy\t   mobilenet_infer_c.py  __pycache__"
      ],
      "execution_count": 0,
      "outputs": []
    },
    {
      "cell_type": "code",
      "metadata": {
        "id": "62WyZF4ArN81",
        "colab_type": "code",
        "colab": {}
      },
      "source": [
        "# qumico.so存在するがどうか確認する\n",
        "! ls out_c\n",
        "# 出力メッセージ:\n",
        "# include  initializers  lib  numpy.c qumico.c  qumico.so"
      ],
      "execution_count": 0,
      "outputs": []
    },
    {
      "cell_type": "code",
      "metadata": {
        "id": "ysDeTKdGExh3",
        "colab_type": "code",
        "colab": {}
      },
      "source": [
        "# mnistデータ十個取得、　トレーニングしたモデルで推論する\n",
        "! python mobilenet_infer.py\n",
        "# 出力メッセージ　 \n",
        "# init:start 2020-01-08 07:33:05.297375\n",
        "# load:start 2020-01-08 07:33:05.300572\n",
        "# run:start 2020-01-08 07:33:05.300696\n",
        "# run:end 2020-01-08 07:33:05.306422\n",
        "# tiger"
      ],
      "execution_count": 0,
      "outputs": []
    },
    {
      "cell_type": "code",
      "metadata": {
        "id": "8g_6ShuHExn9",
        "colab_type": "code",
        "colab": {}
      },
      "source": [
        "# mnistデータ十個取得してout_cフォルダのモデルで推論する\n",
        "! python mobilenet_infer_c.py \n",
        "# 出力メッセージ　\n",
        "# run:start 2020-01-08 07:33:56.499461\n",
        "# run:end 2020-01-08 07:33:56.530338\n",
        "# elapsed_time:0.24333906173706055[sec]\n",
        "# tiger"
      ],
      "execution_count": 0,
      "outputs": []
    },
    {
      "cell_type": "code",
      "metadata": {
        "id": "7ktjej8pdYNx",
        "colab_type": "code",
        "colab": {}
      },
      "source": [
        "# out_c フォルダを zipしてエクスポートする \n",
        "!zip -r '/content/gdrive/My Drive/out_c.zip' out_c  "
      ],
      "execution_count": 0,
      "outputs": []
    }
  ]
}
