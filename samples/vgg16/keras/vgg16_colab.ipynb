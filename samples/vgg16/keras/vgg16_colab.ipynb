{
  "nbformat": 4,
  "nbformat_minor": 0,
  "metadata": {
    "colab": {
      "name": "vgg16_colab.ipynb",
      "provenance": [],
      "collapsed_sections": []
    },
    "kernelspec": {
      "name": "python3",
      "display_name": "Python 3"
    },
    "accelerator": "GPU"
  },
  "cells": [
    {
      "cell_type": "code",
      "metadata": {
        "id": "O_dtOF1yCZCy",
        "colab_type": "code",
        "colab": {}
      },
      "source": [
        "# https://colab.research.google.com/notebooks/welcome.ipynb\n",
        "# Google Colabのアカウント作って登録する\n",
        "# FileをクリックしてNew python3 notebookを選ぶ\n",
        "# New　Python3notebook　クリックする\n",
        "\n",
        "# GPUで動き設定\n",
        "# runtime(メニューのボタン)　クリックして change runtime type　クリックして　GPUに設定する\n",
        "\n",
        "# google　colabからマウントする\n",
        "from google.colab import drive\n",
        "drive.mount('/content/gdrive')\n",
        "# authorization code取得して入力する（enterを押すとマウント完了）\n",
        "\n",
        "# 出力メッセージ:\n",
        "# Enter your authorization code:\n",
        "# ··········\n",
        "# Mounted at /content/gdrive"
      ],
      "execution_count": 0,
      "outputs": []
    },
    {
      "cell_type": "code",
      "metadata": {
        "id": "KQMrZE8xCgxg",
        "colab_type": "code",
        "colab": {}
      },
      "source": [
        "# gitからプロジェクトをクローンする\n",
        "! git clone https://github.com/PasonaTech-Inc/Qumico.git \"/content/gdrive/My Drive/Qumico\"\n",
        "# 一度クローンした場合は　\n",
        "# 'fatal: destination path '/content/gdrive/My Drive/Qumico' already exists and is not an empty directory.'って表示する"
      ],
      "execution_count": 0,
      "outputs": []
    },
    {
      "cell_type": "code",
      "metadata": {
        "id": "1if4WRbeCnbH",
        "colab_type": "code",
        "colab": {}
      },
      "source": [
        "# pythonpathの環境変数設定\n",
        "import os\n",
        "os.environ['PYTHONPATH'] += \":/content/gdrive/My Drive/Qumico\""
      ],
      "execution_count": 0,
      "outputs": []
    },
    {
      "cell_type": "code",
      "metadata": {
        "id": "kTfKG95hxG_Y",
        "colab_type": "code",
        "colab": {}
      },
      "source": [
        "# pythonpath設定された\n",
        "! echo $PYTHONPATH\n",
        "# 出力メッセージ:　/env/python:/content/gdrive/My Drive/Qumico"
      ],
      "execution_count": 0,
      "outputs": []
    },
    {
      "cell_type": "code",
      "metadata": {
        "id": "aNQsikegxtLe",
        "colab_type": "code",
        "colab": {}
      },
      "source": [
        "# ディレクトリを移動する\n",
        "%cd /content/gdrive/My Drive/Qumico\n",
        "# ディレクトリ確認する。\n",
        "# 出力メッセージ: /content/gdrive/My Drive/Qumico"
      ],
      "execution_count": 0,
      "outputs": []
    },
    {
      "cell_type": "code",
      "metadata": {
        "id": "zs_bqCd_CpHw",
        "colab_type": "code",
        "colab": {}
      },
      "source": [
        "# 必要なライブラリをインストールする\n",
        "! pip install -r requirements.txt\n",
        "! pip install tensorflow-gpu==1.13.2 "
      ],
      "execution_count": 0,
      "outputs": []
    },
    {
      "cell_type": "code",
      "metadata": {
        "id": "bOvzMCUaCqoH",
        "colab_type": "code",
        "colab": {}
      },
      "source": [
        "# ディレクトリを移動する\n",
        "%cd samples/vgg16/keras/\n",
        "# ディレクトリ確認します。\n",
        "# 出力メッセージ: /content/gdrive/My Drive/Qumico/samples/vgg16/keras"
      ],
      "execution_count": 0,
      "outputs": []
    },
    {
      "cell_type": "code",
      "metadata": {
        "id": "Ndw443bMBriC",
        "colab_type": "code",
        "colab": {}
      },
      "source": [
        "# flatcの実行権限与える\n",
        "!chmod +x \"/content/gdrive/My Drive/Qumico/external/flatbuffers/flatc\"\n",
        "!ls -la \"/content/gdrive/My Drive/Qumico/external/flatbuffers/flatc\"\n",
        "# 出力メッセージ:　　　　　　\n",
        "# rwx------ 1 root root 3771528 Dec 23 01:27 '/content/gdrive/My Drive/Qumico/external/flatbuffers/flatc'"
      ],
      "execution_count": 0,
      "outputs": []
    },
    {
      "cell_type": "code",
      "metadata": {
        "id": "Wnl3QrDse65C",
        "colab_type": "code",
        "colab": {}
      },
      "source": [
        "# vgg16のonnxファイル作る\n",
        "! python vgg16_to_onnx.py\n",
        "# 出力メッセージ:　\n",
        "# onnx/model.onnxを作成しました。\n",
        "# onnx/vgg16.onnxを作成しました。"
      ],
      "execution_count": 0,
      "outputs": []
    },
    {
      "cell_type": "code",
      "metadata": {
        "id": "PFMc5jhPExaK",
        "colab_type": "code",
        "colab": {}
      },
      "source": [
        "# out_cのフォルダ作る\n",
        "! python gen_c.py\n",
        "# 出力メッセージ: \n",
        "# Cソースを生成しました。出力先: out_c \n",
        "# Cソースを生成しました。出力先: out_c"
      ],
      "execution_count": 0,
      "outputs": []
    },
    {
      "cell_type": "code",
      "metadata": {
        "id": "Y5PdoOVVmxNj",
        "colab_type": "code",
        "colab": {}
      },
      "source": [
        "# out_cフォルダ存在するがどうか確認する\n",
        "! ls \n",
        "# gen_c.py  __pycache__  vgg16_generate_data.py  vgg16_test.py\n",
        "# model\t  test_data    vgg16_infer_c.py        vgg16_to_onnx.py\n",
        "# onnx\t  testfile     vgg16_infer.py\t       vgg16_train.py\n",
        "# out_c\t  train_data   vgg16_optimize_onnx.py"
      ],
      "execution_count": 0,
      "outputs": []
    },
    {
      "cell_type": "code",
      "metadata": {
        "id": "62WyZF4ArN81",
        "colab_type": "code",
        "colab": {}
      },
      "source": [
        "# qumico.so存在するがどうか確認する\n",
        "! ls out_c\n",
        "# 出力メッセージ:\n",
        "# include  lib  qumico.c\tqumico.so"
      ],
      "execution_count": 0,
      "outputs": []
    },
    {
      "cell_type": "code",
      "metadata": {
        "id": "ysDeTKdGExh3",
        "colab_type": "code",
        "colab": {}
      },
      "source": [
        "# ministデータ十個取得、　トレーニングしたモデルで推論する\n",
        "! python vgg16_infer.py\n",
        "# 出力メッセージ:　 \n",
        "# Sunflower"
      ],
      "execution_count": 0,
      "outputs": []
    },
    {
      "cell_type": "code",
      "metadata": {
        "id": "8g_6ShuHExn9",
        "colab_type": "code",
        "colab": {}
      },
      "source": [
        "# ministデータ十個取得してout_cフォルダのモデルで推論する\n",
        "! python vgg16_infer_c.py \n",
        "# 出力メッセージ:　\n",
        "# Sunflower"
      ],
      "execution_count": 0,
      "outputs": []
    },
    {
      "cell_type": "code",
      "metadata": {
        "id": "7ktjej8pdYNx",
        "colab_type": "code",
        "colab": {}
      },
      "source": [
        "# out_c file zipして出力する \n",
        "!zip -r '/content/gdrive/My Drive/out_c.zip' out_c  "
      ],
      "execution_count": 0,
      "outputs": []
    }
  ]
}
